{
 "cells": [
  {
   "cell_type": "code",
   "execution_count": 1,
   "id": "c32b68a7",
   "metadata": {},
   "outputs": [
    {
     "name": "stdout",
     "output_type": "stream",
     "text": [
      "[[-0.0745772   0.01507948  0.99710125  2.0568478 ]\n",
      " [-0.99657786  0.03461772 -0.07506159 -0.05882518]\n",
      " [-0.03564926 -0.99928683  0.01244618  1.4660132 ]\n",
      " [ 0.          0.          0.          1.        ]]\n",
      "[[-0.0745772   0.01507948  0.99710125  2.0568478 ]\n",
      " [-0.99657786  0.03461772 -0.07506159 -0.05882518]\n",
      " [-0.03564926 -0.99928683  0.01244618  1.4660132 ]\n",
      " [ 0.          0.          0.          1.        ]]\n"
     ]
    }
   ],
   "source": [
    "import numpy as np\n",
    "import h5py\n",
    "\n",
    "filename = \"camera_intrinsics.h5\"\n",
    "filenameEx = \"extrinsics.h5\"\n",
    "main_K, main_distortion = None, None\n",
    "with h5py.File(filename, \"r\") as data:\n",
    "\n",
    "    main_K = np.array(data[\"main\"][\"K\"])\n",
    "    main_distortion = np.array(data[\"main\"][\"distortion\"])\n",
    "\n",
    "#get the main camera extrinsics\n",
    "\n",
    "with h5py.File(filenameEx,\"r\") as data:\n",
    "    main_EX = np.array(data[\"main\"])\n",
    "dist_pickle = {}\n",
    "k = main_K\n",
    "dst = main_distortion\n",
    "R_ex = np.zeros((3, 3))\n",
    "\n",
    "for i in range(0,3):\n",
    "    for k in range(0,3):\n",
    "        R_ex[i][k] = main_EX[i][k]"
   ]
  },
  {
   "cell_type": "code",
   "execution_count": 4,
   "id": "fef8dd26",
   "metadata": {},
   "outputs": [
    {
     "name": "stdout",
     "output_type": "stream",
     "text": [
      "[ 0.99710125 -0.07506159  0.01244618]\n",
      "-4.027923644388297\n",
      "[-0.92005675  4.08188032  1.46601313]\n"
     ]
    }
   ],
   "source": [
    "def uvtoXYZ(u, v, main_k):\n",
    "    image_vec = np.array([u, v, 1]).T # 2D points in image\n",
    "    n = np.array([0,0,1]).T  #or is it [0,1,0]? .. normal vector in car/road frame\n",
    "    cam_ex = main_EX # extrinsic matrix for main cam\n",
    "    h = 1.4660132 # height of main cam (z tranlastion in extrinsic)\n",
    "    \n",
    "    n_c = np.matmul(R_ex, n) #normal vector in cam frame\n",
    "    print(n_c) #ok makes sense\n",
    "    V = h/(np.matmul(n_c.T ,np.matmul(np.linalg.inv(main_K),image_vec.T)))\n",
    "    print(V)\n",
    "    pts_in_camera_frame = V * np.matmul(np.linalg.inv(main_K),image_vec)\n",
    "    return pts_in_camera_frame\n",
    "\n",
    "\n",
    "test = np.zeros(4)\n",
    "y = uvtoXYZ(1, 50, main_K)\n",
    "#print(y)\n",
    "#testing\n",
    "test[0] = y[0]\n",
    "test[1] = y[1]\n",
    "test[2] = y[2]\n",
    "test[3] = 1\n",
    "print(np.matmul(np.linalg.inv(R_ex),y))"
   ]
  },
  {
   "cell_type": "code",
   "execution_count": null,
   "id": "ad20ab4b",
   "metadata": {},
   "outputs": [],
   "source": []
  }
 ],
 "metadata": {
  "kernelspec": {
   "display_name": "Python 3 (ipykernel)",
   "language": "python",
   "name": "python3"
  },
  "language_info": {
   "codemirror_mode": {
    "name": "ipython",
    "version": 3
   },
   "file_extension": ".py",
   "mimetype": "text/x-python",
   "name": "python",
   "nbconvert_exporter": "python",
   "pygments_lexer": "ipython3",
   "version": "3.9.7"
  }
 },
 "nbformat": 4,
 "nbformat_minor": 5
}
