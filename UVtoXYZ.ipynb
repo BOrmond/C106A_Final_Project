{
 "cells": [
  {
   "cell_type": "code",
   "execution_count": 65,
   "id": "c32b68a7",
   "metadata": {},
   "outputs": [
    {
     "name": "stdout",
     "output_type": "stream",
     "text": [
      "[[-0.0745772   0.01507948  0.99710125  2.0568478 ]\n",
      " [-0.99657786  0.03461772 -0.07506159 -0.05882518]\n",
      " [-0.03564926 -0.99928683  0.01244618  1.4660132 ]\n",
      " [ 0.          0.          0.          1.        ]]\n"
     ]
    }
   ],
   "source": [
    "import numpy as np\n",
    "import h5py\n",
    "\n",
    "filename = \"camera_intrinsics.h5\"\n",
    "filenameEx = \"extrinsics.h5\"\n",
    "main_K, main_distortion = None, None\n",
    "with h5py.File(filename, \"r\") as data:\n",
    "\n",
    "    main_K = np.array(data[\"main\"][\"K\"])\n",
    "    main_distortion = np.array(data[\"main\"][\"distortion\"])\n",
    "\n",
    "#get the main camera extrinsics\n",
    "\n",
    "with h5py.File(filenameEx,\"r\") as data:\n",
    "    main_EX = np.array(data[\"main\"])\n",
    "dist_pickle = {}\n",
    "k = main_K\n",
    "dst = main_distortion\n",
    "R_ex = np.zeros((3, 3))\n",
    "\n",
    "for i in range(0,3):\n",
    "    for k in range(0,3):\n",
    "        R_ex[i][k] = main_EX[i][k]\n"
   ]
  },
  {
   "cell_type": "code",
   "execution_count": 83,
   "id": "fef8dd26",
   "metadata": {},
   "outputs": [
    {
     "data": {
      "text/plain": [
       "(0.0, 10.0)"
      ]
     },
     "execution_count": 83,
     "metadata": {},
     "output_type": "execute_result"
    },
    {
     "data": {
      "image/png": "[encoded data removed]",
      "text/plain": [
       "<Figure size 1440x360 with 2 Axes>"
      ]
     },
     "metadata": {
      "needs_background": "light"
     },
     "output_type": "display_data"
    }
   ],
   "source": [
    "import matplotlib.pyplot as plt\n",
    "\n",
    "def uvtoXYZ(u, v, main_k):\n",
    "    image_vec = np.array([u, v, 1]).T # 2D points in image\n",
    "    n = np.array([0,0,1]).T  #or is it [0,1,0]? .. normal vector in car/road frame\n",
    "    cam_ex = main_EX # extrinsic matrix for main cam\n",
    "    h = 1.4660132 # height of main cam (z tranlastion in extrinsic)\n",
    "    \n",
    "    n_c = np.matmul(R_ex, n) #normal vector in cam frame\n",
    "\n",
    "    V = h/(np.matmul(n_c.T ,np.matmul(np.linalg.inv(main_K),image_vec.T)))\n",
    "\n",
    "    pts_in_camera_frame = V * np.matmul(np.linalg.inv(main_K),image_vec)\n",
    "    return pts_in_camera_frame\n",
    "\n",
    "\n",
    "test_points = np.array([[x + 50, -2/3 * x + 100] for x in range(75)]) #diagonal line to center of image\n",
    "y = np.array([uvtoXYZ(pt[0], pt[1], main_K) for pt in test_points])\n",
    "out_points = np.array([np.matmul(np.linalg.inv(R_ex), pt) for pt in y])\n",
    "\n",
    "\n",
    "fig, ax = plt.subplots(1, 2, figsize=(20, 5))\n",
    "ax[0].plot(test_points[:, 0], test_points[:, 1], \"o\")\n",
    "ax[0].set_xlim(0, 300)\n",
    "ax[0].set_ylim(0, 100)\n",
    "ax[0].set_title(\"Image Points\")\n",
    "ax[0].invert_yaxis()\n",
    "\n",
    "ax[1].plot(out_points[:, 0], out_points[:, 1])\n",
    "ax[1].set_title(\"XY Points in Car Frame\")\n",
    "ax[1].set_xlim(-5, 5)\n",
    "ax[1].set_ylim(0, 10)"
   ]
  },
  {
   "cell_type": "code",
   "execution_count": null,
   "id": "ad20ab4b",
   "metadata": {},
   "outputs": [],
   "source": []
  }
 ],
 "metadata": {
  "kernelspec": {
   "display_name": "Python 3 (ipykernel)",
   "language": "python",
   "name": "python3"
  },
  "language_info": {
   "codemirror_mode": {
    "name": "ipython",
    "version": 3
   },
   "file_extension": ".py",
   "mimetype": "text/x-python",
   "name": "python",
   "nbconvert_exporter": "python",
   "pygments_lexer": "ipython3",
   "version": "3.8.2"
  }
 },
 "nbformat": 4,
 "nbformat_minor": 5
}
