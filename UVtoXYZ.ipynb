{
 "cells": [
  {
   "cell_type": "code",
   "execution_count": 62,
   "metadata": {},
   "outputs": [
    {
     "name": "stdout",
     "output_type": "stream",
     "text": [
      "{'./final_5/proc_0141.png': {'coefficients': array([ 8.94034514e-04, -2.46656777e-01,  2.15034113e+01, -4.70173375e+02]), 'y': [66, 67, 68, 69, 70, 71, 72, 73, 74, 75, 76, 77, 78, 79, 80, 81, 82, 83, 84, 85, 86, 87, 88, 89, 90, 91, 92, 93, 94, 95, 96, 97, 98, 99, 100, 101, 102, 103], 'x': array([131, 132, 132, 132, 133, 133, 133, 132, 132, 132, 131, 131, 130,\n",
      "       130, 129, 128, 127, 126, 125, 124, 123, 122, 121, 120, 118, 117,\n",
      "       116, 115, 114, 113, 111, 110, 109, 108, 107, 106, 105, 104])}, './final_5/proc_0802.png': {'coefficients': array([-1.15740741e-03,  2.80976173e-01, -2.21873593e+01,  6.79205800e+02]), 'y': [72, 73, 74, 75, 76, 77, 78, 79, 80, 81, 82, 83, 84, 85, 86, 87, 88, 89, 90, 91, 92, 93, 94, 95, 96, 97, 98, 99, 100, 101, 102, 103], 'x': array([106, 106, 106, 107, 107, 108, 108, 109, 109, 110, 110, 111, 112,\n",
      "       112, 113, 113, 113, 114, 114, 114, 114, 114, 114, 114, 114, 114,\n",
      "       113, 113, 112, 112, 111, 110])}, './final_5/proc_0825.png': {'coefficients': array([-1.40759975e-03,  3.78887656e-01, -3.40170051e+01,  1.11112537e+03]), 'y': [74, 75, 76, 77, 78, 79, 80, 81, 82, 83, 84, 85, 86, 87, 88, 89, 90, 91, 92, 93, 94, 95, 96, 97, 98, 99, 100, 101, 102, 103], 'x': array([98, 97, 96, 95, 94, 94, 93, 93, 93, 93, 92, 92, 92, 92, 92, 92, 92,\n",
      "       92, 92, 92, 92, 92, 91, 91, 91, 91, 90, 90, 89, 88])}, './final_5/proc_0848.png': {'coefficients': array([ 1.60256410e-03, -3.99381868e-01,  3.19695513e+01, -7.23879121e+02]), 'y': [74, 75, 76, 77, 78, 79, 80, 81, 82, 83, 84, 85, 86, 87, 88, 89, 90, 91, 92, 93, 94, 95, 96, 97, 98, 99, 100, 101, 102, 103], 'x': array([104, 103, 102, 101, 100,  99,  98,  96,  95,  94,  93,  92,  90,\n",
      "        89,  88,  87,  86,  85,  84,  84,  83,  82,  82,  82,  81,  81,\n",
      "        81,  82,  82,  83])}, './final_5/proc_0902.png': {'coefficients': array([ 1.33627946e-02, -3.74062049e+00,  3.46185366e+02, -1.04765455e+04]), 'y': [84, 85, 86, 87, 88, 89, 90, 91, 92, 93, 94, 95, 96, 97, 98, 99, 100, 101, 102, 103], 'x': array([129, 129, 129, 128, 126, 124, 122, 120, 117, 114, 111, 108, 106,\n",
      "       103, 101,  99,  98,  97,  97,  98])}}\n"
     ]
    }
   ],
   "source": [
    "import pickle\n",
    "\n",
    "with open(\"lane_polynomials.obj\", \"rb\") as f:\n",
    "    d = pickle.load(f)\n",
    "    print(d)"
   ]
  },
  {
   "cell_type": "code",
   "execution_count": 222,
   "metadata": {},
   "outputs": [],
   "source": [
    "import numpy as np\n",
    "import h5py\n",
    "\n",
    "filename = \"camera_intrinsics.h5\"\n",
    "filenameEx = \"extrinsics.h5\"\n",
    "main_K, main_distortion = None, None\n",
    "with h5py.File(filename, \"r\") as data:\n",
    "\n",
    "    main_K = np.array(data[\"main\"][\"K\"])\n",
    "    main_distortion = np.array(data[\"main\"][\"distortion\"])\n",
    "\n",
    "#get the main camera extrinsics\n",
    "\n",
    "with h5py.File(filenameEx,\"r\") as data:\n",
    "    main_EX = np.array(data[\"main\"])\n",
    "dist_pickle = {}\n",
    "\n",
    "R_ex = main_EX[0:3, 0:3]\n"
   ]
  },
  {
   "cell_type": "code",
   "execution_count": 223,
   "metadata": {},
   "outputs": [
    {
     "name": "stdout",
     "output_type": "stream",
     "text": [
      "[[-0.52422453  6.86411393 -0.60753402  1.        ]\n",
      " [-0.53369222  6.89084588 -0.60753402  1.        ]\n",
      " [-0.54325315  6.91784112 -0.60753402  1.        ]\n",
      " [-0.55290872  6.94510357 -0.60753402  1.        ]\n",
      " [-0.56266034  6.9726372  -0.60753402  1.        ]\n",
      " [-0.57250944  7.0004461  -0.60753402  1.        ]\n",
      " [-0.5824575   7.0285344  -0.60753402  1.        ]\n",
      " [-0.59250602  7.05690634 -0.60753402  1.        ]\n",
      " [-0.60265653  7.08556623 -0.60753402  1.        ]\n",
      " [-0.62013487  7.11678847 -0.60753402  1.        ]\n",
      " [-0.63053483  7.14605973 -0.60753402  1.        ]\n",
      " [-0.64104201  7.17563278 -0.60753402  1.        ]\n",
      " [-0.65165809  7.2055123  -0.60753402  1.        ]\n",
      " [-0.66238475  7.23570309 -0.60753402  1.        ]\n",
      " [-0.67322375  7.26621004 -0.60753402  1.        ]\n",
      " [-0.6916583   7.29944794 -0.60753402  1.        ]\n",
      " [-0.70277101  7.33062658 -0.60753402  1.        ]\n",
      " [-0.714002    7.36213706 -0.60753402  1.        ]\n",
      " [-0.72535316  7.39398469 -0.60753402  1.        ]\n",
      " [-0.73682642  7.42617493 -0.60753402  1.        ]\n",
      " [-0.74842378  7.45871332 -0.60753402  1.        ]\n",
      " [-0.76014726  7.49160555 -0.60753402  1.        ]\n",
      " [-0.77199891  7.52485743 -0.60753402  1.        ]]\n"
     ]
    },
    {
     "data": {
      "text/plain": [
       "(2, 8.524857425942287)"
      ]
     },
     "execution_count": 223,
     "metadata": {},
     "output_type": "execute_result"
    },
    {
     "data": {
      "image/png": "[encoded data removed]",
      "text/plain": [
       "<Figure size 1440x360 with 2 Axes>"
      ]
     },
     "metadata": {
      "needs_background": "light"
     },
     "output_type": "display_data"
    }
   ],
   "source": [
    "import matplotlib.pyplot as plt\n",
    "\n",
    "def uvtoXYZ(u, v, main_k):\n",
    "    image_vec = np.array([u, v, 1]).T # 2D points in image\n",
    "    n = np.array([0, 0, 1]).T  #or is it [0,1,0]? .. normal vector in car/road frame\n",
    "    \n",
    "    h = 1.4660132 # height of main cam (z tranlastion in extrinsic)\n",
    "    \n",
    "    n_c = np.matmul(R_ex, n) #normal vector in cam frame\n",
    "\n",
    "    V = h/(np.matmul(n_c.T ,np.matmul(np.linalg.inv(main_K),image_vec)))\n",
    "\n",
    "    pts_in_camera_frame = V * np.matmul(np.linalg.inv(main_K),image_vec)\n",
    "    return pts_in_camera_frame\n",
    "\n",
    "\n",
    "\n",
    "y_pt = d['./final_5/proc_0141.png']['y']\n",
    "x_pt = d['./final_5/proc_0141.png']['x']\n",
    "\n",
    "test_points = np.array([[x_pt[i], y_pt[i]] for i in range(len(y_pt))  if y_pt[i] > 80])\n",
    "xyz = np.array([uvtoXYZ(pt[1], pt[0], main_K) for pt in test_points])\n",
    "\n",
    "\n",
    "ones = [[1] for i in range(len(xyz))] \n",
    "hom_xyz = np.concatenate((xyz, ones), axis=1)\n",
    "\n",
    "out_points = np.array([np.matmul(np.linalg.inv(main_EX), pt) for pt in hom_xyz])\n",
    "\n",
    "print(out_points)\n",
    "\n",
    "fig, ax = plt.subplots(1, 2, figsize=(20, 5))\n",
    "ax[0].plot(test_points[:, 0], test_points[:, 1], \"o\")\n",
    "ax[0].set_xlim(0, 300)\n",
    "ax[0].set_ylim(0, 100)\n",
    "ax[0].set_title(\"Image Points\")\n",
    "ax[0].invert_yaxis()\n",
    "\n",
    "ax[1].plot(out_points[:, 0], out_points[:, 1], \"o\")\n",
    "ax[1].set_title(\"XY Points in Car Frame\")\n",
    "ax[1].set_xlim(-3, 3)\n",
    "ax[1].set_ylim(2, max(out_points[:, 1]) + 1)"
   ]
  },
  {
   "cell_type": "code",
   "execution_count": null,
   "metadata": {},
   "outputs": [],
   "source": []
  },
  {
   "cell_type": "code",
   "execution_count": null,
   "metadata": {},
   "outputs": [],
   "source": []
  }
 ],
 "metadata": {
  "kernelspec": {
   "display_name": "Python 3",
   "language": "python",
   "name": "python3"
  },
  "language_info": {
   "codemirror_mode": {
    "name": "ipython",
    "version": 3
   },
   "file_extension": ".py",
   "mimetype": "text/x-python",
   "name": "python",
   "nbconvert_exporter": "python",
   "pygments_lexer": "ipython3",
   "version": "3.7.3"
  }
 },
 "nbformat": 4,
 "nbformat_minor": 5
}
